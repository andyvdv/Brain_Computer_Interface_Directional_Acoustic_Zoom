{
 "cells": [
  {
   "cell_type": "markdown",
   "source": [
    "You will have to start with preprocessing the wav files, to generate envelopes, as well as perform some basic steps on the EEG. We recommend using the libraries imported below,\n",
    "\n",
    "Librosa is a well known library for audio processing,.\n",
    "For generating the envelopes, we need a gammatone filter bank, for which we will need the brian2 and brian2hears libraries. There are alternative libraries which can generate the same results, if you are familiar with them, you can use them instead.\n"
   ],
   "metadata": {
    "collapsed": false,
    "pycharm": {
     "name": "#%% md\n"
    }
   }
  },
  {
   "cell_type": "code",
   "execution_count": null,
   "outputs": [],
   "source": [
    "\n",
    "from brian2 import Hz, kHz\n",
    "from brian2hears import Sound, erbspace, Gammatone, Filterbank\n",
    "from scipy import signal\n",
    "import librosa"
   ],
   "metadata": {
    "collapsed": false,
    "pycharm": {
     "name": "#%%\n"
    }
   }
  },
  {
   "cell_type": "code",
   "execution_count": null,
   "outputs": [],
   "source": [
    "# calculation of the envelope. It is normal if this process takes some time.\n",
    "\n",
    "# 1 . LOAD THE AUDIO FILE\n",
    "\n",
    "# 2. for the brian library, we need to convert the audio file to a brian sound object ('Sound')\n",
    "# 3. for our gammatone filterbank, we will use 28 centerfrequencies, ranged between 50 Hz and 5kHz  ('erbspace')\n",
    "# 4. create the gammatone filterbank (Gammatone)\n",
    "\n",
    "# 5. The brian2hears library uses a .process() function call to generate the output of the function call. When using this function directly, without a wrapper, it uses up a lot of RAM memory ( you need somewhere between 32 and 64GB of RAM). To alleviate this issue, you have to wrap the filterbank in a wrapper class, which keeps the RAM usage low. Use the following class to wrap the filterbank. The other preprocessing steps are done inside the gammatone filterbank class wrapper\n",
    "\n",
    "envelope_calcuation = EnvelopeFromGammatoneFilterbank(gammatone_filterbank)\n",
    "envelope = envelope_calcuation.process()\n",
    "\n",
    "# 9 . Downsample the envelope to the desired sampling rate. Make sure that you use a downsampling method that sets a low-pass filter on the signal, to avoid aliasing.\n",
    "\n",
    "# for high-pass filteting, we will use a butterworth filter. (Look into scipy.signal.butter, and scipy.signal.sosfiltfilt for more information)\n",
    "\n",
    "\n",
    "#10. save the envelope to a file\n"
   ],
   "metadata": {
    "collapsed": false,
    "pycharm": {
     "name": "#%%\n"
    }
   }
  },
  {
   "cell_type": "code",
   "execution_count": null,
   "outputs": [],
   "source": [
    "\n",
    "class EnvelopeFromGammatoneFilterbank(Filterbank):\n",
    "    \"\"\"Converts the output of a GammatoneFilterbank to an envelope.\"\"\"\n",
    "\n",
    "    def __init__(self, source):\n",
    "        \"\"\"Initialize the envelope transformation.\n",
    "\n",
    "        Parameters\n",
    "        ----------\n",
    "        source : Gammatone\n",
    "            Gammatone filterbank output to convert to envelope\n",
    "        \"\"\"\n",
    "        super().__init__(source)\n",
    "\n",
    "        self.nchannels = 1\n",
    "\n",
    "    def buffer_apply(self, input_):\n",
    "        # 6. take absolute value of the input_\n",
    "        # 7. do power-law compression\n",
    "        # 8. take the mean over the channels, to get a single envelope\n",
    "        # return the envelope\n",
    "        envelope = all_these_preprocessing_steps(input_)\n",
    "        return  envelope"
   ],
   "metadata": {
    "collapsed": false,
    "pycharm": {
     "name": "#%%\n"
    }
   }
  },
  {
   "cell_type": "code",
   "execution_count": null,
   "outputs": [],
   "source": [],
   "metadata": {
    "collapsed": false,
    "pycharm": {
     "name": "#%%\n"
    }
   }
  }
 ],
 "metadata": {
  "kernelspec": {
   "display_name": "Python 3",
   "language": "python",
   "name": "python3"
  },
  "language_info": {
   "codemirror_mode": {
    "name": "ipython",
    "version": 2
   },
   "file_extension": ".py",
   "mimetype": "text/x-python",
   "name": "python",
   "nbconvert_exporter": "python",
   "pygments_lexer": "ipython2",
   "version": "2.7.6"
  }
 },
 "nbformat": 4,
 "nbformat_minor": 0
}