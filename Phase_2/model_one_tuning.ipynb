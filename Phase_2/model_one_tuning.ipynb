{
 "cells": [
  {
   "cell_type": "code",
   "execution_count": 1,
   "metadata": {},
   "outputs": [
    {
     "name": "stderr",
     "output_type": "stream",
     "text": [
      "/var/folders/y3/w8y39yms09jg30l75ycdw56h0000gn/T/ipykernel_7697/2405208978.py:18: DeprecationWarning: `import kerastuner` is deprecated, please use `import keras_tuner`.\n",
      "  from kerastuner.tuners import RandomSearch\n"
     ]
    }
   ],
   "source": [
    "from keras.models import Model\n",
    "from keras.layers import Input, Conv1D, Dense, Activation, Dot, Flatten, Reshape, MaxPooling1D, Dropout\n",
    "from keras.optimizers import Adam\n",
    "from keras.backend import l2_normalize\n",
    "from sklearn.model_selection import train_test_split\n",
    "from keras.utils import Sequence\n",
    "from keras.callbacks import EarlyStopping\n",
    "import typing\n",
    "\n",
    "import random\n",
    "import numpy as np\n",
    "from IPython.display import clear_output\n",
    "import matplotlib.pyplot as plt\n",
    "import os\n",
    "\n",
    "import tensorflow as tf\n",
    "from datagenerator import DataGenerator\n",
    "from kerastuner.tuners import RandomSearch"
   ]
  },
  {
   "cell_type": "code",
   "execution_count": 2,
   "metadata": {},
   "outputs": [
    {
     "name": "stdout",
     "output_type": "stream",
     "text": [
      "Num GPUs Available:  1\n"
     ]
    }
   ],
   "source": [
    "physical_devices = tf.config.experimental.list_physical_devices('GPU')\n",
    "print(\"Num GPUs Available: \", len (physical_devices))\n",
    "tf.config.experimental.set_memory_growth(physical_devices[0], True)\n",
    "\n",
    "data_folder = os.getcwd() + '/data/eeg'\n",
    "all_files = [f for f in os.listdir(data_folder) if f.endswith('.npz')]\n",
    "train_generator = DataGenerator(all_files, batch_size=10, stage='train')\n",
    "val_generator = DataGenerator(all_files, batch_size=10, stage='val')\n",
    "\n",
    "time_window = train_generator.time_window\n",
    "early_stopping = EarlyStopping(monitor='val_loss', patience=5)\n",
    "\n",
    "def build_model(hp):\n",
    "    eeg = Input(shape=(time_window, 64))\n",
    "    env1 = Input(shape=(time_window, 1))\n",
    "    env2 = Input(shape=(time_window, 1))\n",
    "\n",
    "    conv1 = Conv1D(filters=hp.Int('filters', min_value=8, max_value=32, step=4),\n",
    "                   kernel_size=hp.Int('kernel_size', min_value=8, max_value=32, step=4),\n",
    "                   activation='relu',\n",
    "                   padding='same')(eeg)\n",
    "\n",
    "    cos_sim1 = tf.keras.layers.Dot(axes=(1, 1), normalize=True)([conv1, env1])\n",
    "    cos_sim2 = tf.keras.layers.Dot(axes=(1, 1), normalize=True)([conv1, env2])\n",
    "\n",
    "    out1 = Dense(1, activation=\"sigmoid\")(tf.keras.layers.Flatten()(tf.keras.layers.Concatenate()([cos_sim1, cos_sim2])))\n",
    "\n",
    "    out = tf.keras.layers.Reshape([1], name=\"output_name\")(out1)\n",
    "    model = tf.keras.Model(inputs=[eeg, env1, env2], outputs=[out])\n",
    "\n",
    "    model.compile(optimizer=Adam(hp.Choice('learning_rate', values=[1e-2, 1e-3, 1e-4])),\n",
    "                  loss='binary_crossentropy',\n",
    "                  metrics=['accuracy'])\n",
    "    return model\n"
   ]
  },
  {
   "cell_type": "code",
   "execution_count": 3,
   "metadata": {},
   "outputs": [
    {
     "name": "stdout",
     "output_type": "stream",
     "text": [
      "Trial 5 Complete [01h 08m 34s]\n",
      "val_accuracy: 0.7099704146385193\n",
      "\n",
      "Best val_accuracy So Far: 0.7099704146385193\n",
      "Total elapsed time: 05h 54m 11s\n",
      "INFO:tensorflow:Oracle triggered exit\n"
     ]
    }
   ],
   "source": [
    "tuner = RandomSearch(\n",
    "    build_model,\n",
    "    objective='val_accuracy',\n",
    "    max_trials=5,\n",
    "    executions_per_trial=3,\n",
    "    directory='output',\n",
    "    project_name='my_project')\n",
    "\n",
    "tuner.search_space_summary()\n",
    "\n",
    "# Start the search\n",
    "tuner.search(train_generator,\n",
    "             epochs=50,\n",
    "             validation_data=val_generator,\n",
    "             callbacks=[early_stopping])\n",
    "\n",
    "best_model = tuner.get_best_models(num_models=1)[0]\n",
    "best_hyperparameters = tuner.get_best_hyperparameters(num_trials=1)[0]"
   ]
  },
  {
   "cell_type": "code",
   "execution_count": 5,
   "metadata": {},
   "outputs": [
    {
     "name": "stdout",
     "output_type": "stream",
     "text": [
      "{'filters': 28, 'kernel_size': 32, 'learning_rate': 0.01}\n",
      "Model: \"model\"\n",
      "__________________________________________________________________________________________________\n",
      " Layer (type)                   Output Shape         Param #     Connected to                     \n",
      "==================================================================================================\n",
      " input_1 (InputLayer)           [(None, 640, 64)]    0           []                               \n",
      "                                                                                                  \n",
      " conv1d (Conv1D)                (None, 640, 28)      57372       ['input_1[0][0]']                \n",
      "                                                                                                  \n",
      " input_2 (InputLayer)           [(None, 640, 1)]     0           []                               \n",
      "                                                                                                  \n",
      " input_3 (InputLayer)           [(None, 640, 1)]     0           []                               \n",
      "                                                                                                  \n",
      " dot (Dot)                      (None, 28, 1)        0           ['conv1d[0][0]',                 \n",
      "                                                                  'input_2[0][0]']                \n",
      "                                                                                                  \n",
      " dot_1 (Dot)                    (None, 28, 1)        0           ['conv1d[0][0]',                 \n",
      "                                                                  'input_3[0][0]']                \n",
      "                                                                                                  \n",
      " concatenate (Concatenate)      (None, 28, 2)        0           ['dot[0][0]',                    \n",
      "                                                                  'dot_1[0][0]']                  \n",
      "                                                                                                  \n",
      " flatten (Flatten)              (None, 56)           0           ['concatenate[0][0]']            \n",
      "                                                                                                  \n",
      " dense (Dense)                  (None, 1)            57          ['flatten[0][0]']                \n",
      "                                                                                                  \n",
      " output_name (Reshape)          (None, 1)            0           ['dense[0][0]']                  \n",
      "                                                                                                  \n",
      "==================================================================================================\n",
      "Total params: 57,429\n",
      "Trainable params: 57,429\n",
      "Non-trainable params: 0\n",
      "__________________________________________________________________________________________________\n",
      "None\n"
     ]
    },
    {
     "ename": "",
     "evalue": "",
     "output_type": "error",
     "traceback": [
      "\u001b[1;31mThe Kernel crashed while executing code in the the current cell or a previous cell. Please review the code in the cell(s) to identify a possible cause of the failure. Click <a href='https://aka.ms/vscodeJupyterKernelCrash'>here</a> for more info. View Jupyter <a href='command:jupyter.viewOutput'>log</a> for further details."
     ]
    }
   ],
   "source": [
    "print(best_hyperparameters.values)\n",
    "print(best_model.summary())"
   ]
  }
 ],
 "metadata": {
  "kernelspec": {
   "display_name": "Python 3",
   "language": "python",
   "name": "python3"
  },
  "language_info": {
   "codemirror_mode": {
    "name": "ipython",
    "version": 3
   },
   "file_extension": ".py",
   "mimetype": "text/x-python",
   "name": "python",
   "nbconvert_exporter": "python",
   "pygments_lexer": "ipython3",
   "version": "3.10.9"
  },
  "orig_nbformat": 4
 },
 "nbformat": 4,
 "nbformat_minor": 2
}
