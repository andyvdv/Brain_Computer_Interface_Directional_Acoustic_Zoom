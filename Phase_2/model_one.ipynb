{
 "cells": [
  {
   "attachments": {},
   "cell_type": "markdown",
   "metadata": {},
   "source": [
    "# CNN MODEL DEFINITION AND TRAINING"
   ]
  },
  {
   "cell_type": "code",
   "execution_count": 1,
   "metadata": {},
   "outputs": [],
   "source": [
    "# Setup\n",
    "\n",
    "# from keras.layers import Dense, Conv1D, Flatten, Activation, Lambda, GlobalAveragePooling1D\n",
    "# from keras import regularizers\n",
    "# import numpy as np\n",
    "# import tensorflow as tf\n",
    "# import os\n",
    "from keras.models import Model\n",
    "from keras.layers import Input, Conv1D, Dense, Activation, Dot, Flatten, Reshape, MaxPooling1D, Dropout\n",
    "from keras.optimizers import Adam\n",
    "from keras.backend import l2_normalize\n",
    "from sklearn.model_selection import train_test_split\n",
    "from keras.utils import Sequence\n",
    "from keras.callbacks import EarlyStopping\n",
    "import typing\n",
    "\n",
    "import random\n",
    "import numpy as np\n",
    "from IPython.display import clear_output\n",
    "import matplotlib.pyplot as plt\n",
    "import os\n",
    "\n",
    "import tensorflow as tf\n",
    "from datagenerator import DataGenerator"
   ]
  },
  {
   "cell_type": "code",
   "execution_count": 2,
   "metadata": {},
   "outputs": [
    {
     "name": "stdout",
     "output_type": "stream",
     "text": [
      "Num GPUs Available:  1\n",
      "Metal device set to: Apple M1 Pro\n",
      "\n",
      "systemMemory: 16.00 GB\n",
      "maxCacheSize: 5.33 GB\n",
      "\n"
     ]
    },
    {
     "name": "stderr",
     "output_type": "stream",
     "text": [
      "2023-04-19 21:25:12.217795: I tensorflow/core/common_runtime/pluggable_device/pluggable_device_factory.cc:306] Could not identify NUMA node of platform GPU ID 0, defaulting to 0. Your kernel may not have been built with NUMA support.\n",
      "2023-04-19 21:25:12.218949: I tensorflow/core/common_runtime/pluggable_device/pluggable_device_factory.cc:272] Created TensorFlow device (/job:localhost/replica:0/task:0/device:GPU:0 with 0 MB memory) -> physical PluggableDevice (device: 0, name: METAL, pci bus id: <undefined>)\n"
     ]
    },
    {
     "name": "stdout",
     "output_type": "stream",
     "text": [
      "Epoch 1/50\n"
     ]
    },
    {
     "name": "stderr",
     "output_type": "stream",
     "text": [
      "2023-04-19 21:25:13.756898: W tensorflow/tsl/platform/profile_utils/cpu_utils.cc:128] Failed to get CPU frequency: 0 Hz\n",
      "2023-04-19 21:25:14.097568: I tensorflow/core/grappler/optimizers/custom_graph_optimizer_registry.cc:114] Plugin optimizer for device_type GPU is enabled.\n",
      "2023-04-19 21:25:41.046501: I tensorflow/core/grappler/optimizers/custom_graph_optimizer_registry.cc:114] Plugin optimizer for device_type GPU is enabled.\n"
     ]
    },
    {
     "name": "stdout",
     "output_type": "stream",
     "text": [
      "31/31 - 32s - loss: 0.6901 - accuracy: 0.5329 - val_loss: 0.6897 - val_accuracy: 0.5264 - 32s/epoch - 1s/step\n",
      "Epoch 2/50\n",
      "31/31 - 29s - loss: 0.6853 - accuracy: 0.5553 - val_loss: 0.6871 - val_accuracy: 0.5484 - 29s/epoch - 946ms/step\n",
      "Epoch 3/50\n"
     ]
    },
    {
     "ename": "KeyboardInterrupt",
     "evalue": "",
     "output_type": "error",
     "traceback": [
      "\u001b[0;31m---------------------------------------------------------------------------\u001b[0m",
      "\u001b[0;31mKeyboardInterrupt\u001b[0m                         Traceback (most recent call last)",
      "Cell \u001b[0;32mIn[2], line 33\u001b[0m\n\u001b[1;32m     31\u001b[0m model\u001b[39m.\u001b[39mcompile(optimizer\u001b[39m=\u001b[39mAdam(), loss\u001b[39m=\u001b[39m\u001b[39m'\u001b[39m\u001b[39mbinary_crossentropy\u001b[39m\u001b[39m'\u001b[39m, metrics\u001b[39m=\u001b[39m[\u001b[39m'\u001b[39m\u001b[39maccuracy\u001b[39m\u001b[39m'\u001b[39m])\n\u001b[1;32m     32\u001b[0m \u001b[39m# Fit the model\u001b[39;00m\n\u001b[0;32m---> 33\u001b[0m history \u001b[39m=\u001b[39m model\u001b[39m.\u001b[39;49mfit(train_generator, epochs\u001b[39m=\u001b[39;49m\u001b[39m50\u001b[39;49m, verbose\u001b[39m=\u001b[39;49m\u001b[39m2\u001b[39;49m, validation_data\u001b[39m=\u001b[39;49mval_generator, callbacks\u001b[39m=\u001b[39;49m[early_stopping])\n\u001b[1;32m     35\u001b[0m training_loss \u001b[39m=\u001b[39m history\u001b[39m.\u001b[39mhistory[\u001b[39m'\u001b[39m\u001b[39mloss\u001b[39m\u001b[39m'\u001b[39m]\n\u001b[1;32m     36\u001b[0m training_accuracy \u001b[39m=\u001b[39m history\u001b[39m.\u001b[39mhistory[\u001b[39m'\u001b[39m\u001b[39maccuracy\u001b[39m\u001b[39m'\u001b[39m]\n",
      "File \u001b[0;32m~/.pyenv/versions/3.10.8/lib/python3.10/site-packages/keras/utils/traceback_utils.py:65\u001b[0m, in \u001b[0;36mfilter_traceback.<locals>.error_handler\u001b[0;34m(*args, **kwargs)\u001b[0m\n\u001b[1;32m     63\u001b[0m filtered_tb \u001b[39m=\u001b[39m \u001b[39mNone\u001b[39;00m\n\u001b[1;32m     64\u001b[0m \u001b[39mtry\u001b[39;00m:\n\u001b[0;32m---> 65\u001b[0m     \u001b[39mreturn\u001b[39;00m fn(\u001b[39m*\u001b[39;49margs, \u001b[39m*\u001b[39;49m\u001b[39m*\u001b[39;49mkwargs)\n\u001b[1;32m     66\u001b[0m \u001b[39mexcept\u001b[39;00m \u001b[39mException\u001b[39;00m \u001b[39mas\u001b[39;00m e:\n\u001b[1;32m     67\u001b[0m     filtered_tb \u001b[39m=\u001b[39m _process_traceback_frames(e\u001b[39m.\u001b[39m__traceback__)\n",
      "File \u001b[0;32m~/.pyenv/versions/3.10.8/lib/python3.10/site-packages/keras/engine/training.py:1641\u001b[0m, in \u001b[0;36mModel.fit\u001b[0;34m(self, x, y, batch_size, epochs, verbose, callbacks, validation_split, validation_data, shuffle, class_weight, sample_weight, initial_epoch, steps_per_epoch, validation_steps, validation_batch_size, validation_freq, max_queue_size, workers, use_multiprocessing)\u001b[0m\n\u001b[1;32m   1639\u001b[0m callbacks\u001b[39m.\u001b[39mon_epoch_begin(epoch)\n\u001b[1;32m   1640\u001b[0m \u001b[39mwith\u001b[39;00m data_handler\u001b[39m.\u001b[39mcatch_stop_iteration():\n\u001b[0;32m-> 1641\u001b[0m     \u001b[39mfor\u001b[39;00m step \u001b[39min\u001b[39;00m data_handler\u001b[39m.\u001b[39msteps():\n\u001b[1;32m   1642\u001b[0m         \u001b[39mwith\u001b[39;00m tf\u001b[39m.\u001b[39mprofiler\u001b[39m.\u001b[39mexperimental\u001b[39m.\u001b[39mTrace(\n\u001b[1;32m   1643\u001b[0m             \u001b[39m\"\u001b[39m\u001b[39mtrain\u001b[39m\u001b[39m\"\u001b[39m,\n\u001b[1;32m   1644\u001b[0m             epoch_num\u001b[39m=\u001b[39mepoch,\n\u001b[0;32m   (...)\u001b[0m\n\u001b[1;32m   1647\u001b[0m             _r\u001b[39m=\u001b[39m\u001b[39m1\u001b[39m,\n\u001b[1;32m   1648\u001b[0m         ):\n\u001b[1;32m   1649\u001b[0m             callbacks\u001b[39m.\u001b[39mon_train_batch_begin(step)\n",
      "File \u001b[0;32m~/.pyenv/versions/3.10.8/lib/python3.10/site-packages/keras/engine/data_adapter.py:1371\u001b[0m, in \u001b[0;36mDataHandler.steps\u001b[0;34m(self)\u001b[0m\n\u001b[1;32m   1369\u001b[0m \u001b[39mif\u001b[39;00m \u001b[39mself\u001b[39m\u001b[39m.\u001b[39m_insufficient_data:  \u001b[39m# Set by `catch_stop_iteration`.\u001b[39;00m\n\u001b[1;32m   1370\u001b[0m     \u001b[39mbreak\u001b[39;00m\n\u001b[0;32m-> 1371\u001b[0m original_spe \u001b[39m=\u001b[39m \u001b[39mself\u001b[39;49m\u001b[39m.\u001b[39;49m_steps_per_execution\u001b[39m.\u001b[39;49mnumpy()\u001b[39m.\u001b[39mitem()\n\u001b[1;32m   1372\u001b[0m can_run_full_execution \u001b[39m=\u001b[39m (\n\u001b[1;32m   1373\u001b[0m     original_spe \u001b[39m==\u001b[39m \u001b[39m1\u001b[39m\n\u001b[1;32m   1374\u001b[0m     \u001b[39mor\u001b[39;00m \u001b[39mself\u001b[39m\u001b[39m.\u001b[39m_inferred_steps \u001b[39mis\u001b[39;00m \u001b[39mNone\u001b[39;00m\n\u001b[1;32m   1375\u001b[0m     \u001b[39mor\u001b[39;00m \u001b[39mself\u001b[39m\u001b[39m.\u001b[39m_inferred_steps \u001b[39m-\u001b[39m \u001b[39mself\u001b[39m\u001b[39m.\u001b[39m_current_step \u001b[39m>\u001b[39m\u001b[39m=\u001b[39m original_spe\n\u001b[1;32m   1376\u001b[0m )\n\u001b[1;32m   1378\u001b[0m \u001b[39mif\u001b[39;00m can_run_full_execution:\n",
      "File \u001b[0;32m~/.pyenv/versions/3.10.8/lib/python3.10/site-packages/tensorflow/python/ops/resource_variable_ops.py:639\u001b[0m, in \u001b[0;36mBaseResourceVariable.numpy\u001b[0;34m(self)\u001b[0m\n\u001b[1;32m    637\u001b[0m \u001b[39mdef\u001b[39;00m \u001b[39mnumpy\u001b[39m(\u001b[39mself\u001b[39m):\n\u001b[1;32m    638\u001b[0m   \u001b[39mif\u001b[39;00m context\u001b[39m.\u001b[39mexecuting_eagerly():\n\u001b[0;32m--> 639\u001b[0m     \u001b[39mreturn\u001b[39;00m \u001b[39mself\u001b[39;49m\u001b[39m.\u001b[39;49mread_value()\u001b[39m.\u001b[39;49mnumpy()\n\u001b[1;32m    640\u001b[0m   \u001b[39mraise\u001b[39;00m \u001b[39mNotImplementedError\u001b[39;00m(\n\u001b[1;32m    641\u001b[0m       \u001b[39m\"\u001b[39m\u001b[39mnumpy() is only available when eager execution is enabled.\u001b[39m\u001b[39m\"\u001b[39m)\n",
      "File \u001b[0;32m~/.pyenv/versions/3.10.8/lib/python3.10/site-packages/tensorflow/python/framework/ops.py:1155\u001b[0m, in \u001b[0;36m_EagerTensorBase.numpy\u001b[0;34m(self)\u001b[0m\n\u001b[1;32m   1132\u001b[0m \u001b[39m\u001b[39m\u001b[39m\"\"\"Copy of the contents of this Tensor into a NumPy array or scalar.\u001b[39;00m\n\u001b[1;32m   1133\u001b[0m \n\u001b[1;32m   1134\u001b[0m \u001b[39mUnlike NumPy arrays, Tensors are immutable, so this method has to copy\u001b[39;00m\n\u001b[0;32m   (...)\u001b[0m\n\u001b[1;32m   1152\u001b[0m \u001b[39m    NumPy dtype.\u001b[39;00m\n\u001b[1;32m   1153\u001b[0m \u001b[39m\"\"\"\u001b[39;00m\n\u001b[1;32m   1154\u001b[0m \u001b[39m# TODO(slebedev): Consider avoiding a copy for non-CPU or remote tensors.\u001b[39;00m\n\u001b[0;32m-> 1155\u001b[0m maybe_arr \u001b[39m=\u001b[39m \u001b[39mself\u001b[39;49m\u001b[39m.\u001b[39;49m_numpy()  \u001b[39m# pylint: disable=protected-access\u001b[39;00m\n\u001b[1;32m   1156\u001b[0m \u001b[39mreturn\u001b[39;00m maybe_arr\u001b[39m.\u001b[39mcopy() \u001b[39mif\u001b[39;00m \u001b[39misinstance\u001b[39m(maybe_arr, np\u001b[39m.\u001b[39mndarray) \u001b[39melse\u001b[39;00m maybe_arr\n",
      "File \u001b[0;32m~/.pyenv/versions/3.10.8/lib/python3.10/site-packages/tensorflow/python/framework/ops.py:1121\u001b[0m, in \u001b[0;36m_EagerTensorBase._numpy\u001b[0;34m(self)\u001b[0m\n\u001b[1;32m   1119\u001b[0m \u001b[39mdef\u001b[39;00m \u001b[39m_numpy\u001b[39m(\u001b[39mself\u001b[39m):\n\u001b[1;32m   1120\u001b[0m   \u001b[39mtry\u001b[39;00m:\n\u001b[0;32m-> 1121\u001b[0m     \u001b[39mreturn\u001b[39;00m \u001b[39mself\u001b[39;49m\u001b[39m.\u001b[39;49m_numpy_internal()\n\u001b[1;32m   1122\u001b[0m   \u001b[39mexcept\u001b[39;00m core\u001b[39m.\u001b[39m_NotOkStatusException \u001b[39mas\u001b[39;00m e:  \u001b[39m# pylint: disable=protected-access\u001b[39;00m\n\u001b[1;32m   1123\u001b[0m     \u001b[39mraise\u001b[39;00m core\u001b[39m.\u001b[39m_status_to_exception(e) \u001b[39mfrom\u001b[39;00m \u001b[39mNone\u001b[39m\n",
      "\u001b[0;31mKeyboardInterrupt\u001b[0m: "
     ]
    }
   ],
   "source": [
    "physical_devices = tf.config.experimental.list_physical_devices('GPU')\n",
    "print(\"Num GPUs Available: \", len (physical_devices))\n",
    "tf.config.experimental.set_memory_growth(physical_devices[0], True)\n",
    "\n",
    "data_folder = os.getcwd() + '/data/eeg'\n",
    "all_files = [f for f in os.listdir(data_folder) if f.endswith('.npz')]\n",
    "train_generator = DataGenerator(all_files, batch_size=10, stage='train')\n",
    "val_generator = DataGenerator(all_files, batch_size=10, stage='val')\n",
    "\n",
    "# BUILDING THE MODEL\n",
    "time_window = train_generator.time_window\n",
    "early_stopping = EarlyStopping(monitor='val_loss', patience=5)\n",
    "\n",
    "eeg = Input(shape=(time_window, 64))\n",
    "env1 = Input(shape=(time_window, 1))\n",
    "env2 = Input(shape=(time_window, 1))\n",
    "\n",
    "conv1 = Conv1D(filters=16, kernel_size=16, activation='relu', padding='causal')(eeg)\n",
    "\n",
    "cos_sim1 = tf.keras.layers.Dot(axes=(1, 1), normalize=True)([conv1, env1])\n",
    "cos_sim2 = tf.keras.layers.Dot(axes=(1, 1), normalize=True)([conv1, env2])\n",
    "\n",
    "# Classification\n",
    "out1 = Dense(1, activation=\"sigmoid\")(tf.keras.layers.Flatten()(tf.keras.layers.Concatenate()([cos_sim1, cos_sim2])))\n",
    "\n",
    "# 1 output per batch\n",
    "out = tf.keras.layers.Reshape([1], name=\"output_name\")(out1)\n",
    "model = tf.keras.Model(inputs=[eeg, env1, env2], outputs=[out])\n",
    "\n",
    "# Compile the model\n",
    "model.compile(optimizer=Adam(learning_rate=0.01), loss='binary_crossentropy', metrics=['accuracy'])\n",
    "# Fit the model\n",
    "history = model.fit(train_generator, epochs=50, verbose=2, validation_data=val_generator, callbacks=[early_stopping])\n",
    "\n",
    "training_loss = history.history['loss']\n",
    "training_accuracy = history.history['accuracy']\n",
    "val_loss = history.history['val_loss']\n",
    "val_accuracty = history.history['val_accuracy']\n",
    "\n",
    "# Print the training and validation loss and accuracy\n",
    "print(\"Training Loss:\", training_loss)\n",
    "print(\"Training Accuracy:\", training_accuracy)\n",
    "\n",
    "fig, axs = plt.subplots(1, 2, figsize=(10, 5))\n",
    "axs[0].plot(training_loss, label='Training Loss')\n",
    "axs[0].plot(val_loss, label='Validation Loss')\n",
    "axs[0].legend()\n",
    "\n",
    "axs[1].plot(training_accuracy, label='Training Accuracy')\n",
    "axs[1].plot(val_accuracty, label='Validation Accuracy')\n",
    "axs[1].legend()\n",
    "\n",
    "plt.show()"
   ]
  },
  {
   "cell_type": "code",
   "execution_count": 15,
   "metadata": {},
   "outputs": [
    {
     "name": "stdout",
     "output_type": "stream",
     "text": [
      "Model: \"model\"\n",
      "__________________________________________________________________________________________________\n",
      " Layer (type)                   Output Shape         Param #     Connected to                     \n",
      "==================================================================================================\n",
      " input_1 (InputLayer)           [(None, 640, 64)]    0           []                               \n",
      "                                                                                                  \n",
      " conv1d (Conv1D)                (None, 640, 16)      16400       ['input_1[0][0]']                \n",
      "                                                                                                  \n",
      " input_2 (InputLayer)           [(None, 640, 1)]     0           []                               \n",
      "                                                                                                  \n",
      " input_3 (InputLayer)           [(None, 640, 1)]     0           []                               \n",
      "                                                                                                  \n",
      " dot (Dot)                      (None, 16, 1)        0           ['conv1d[0][0]',                 \n",
      "                                                                  'input_2[0][0]']                \n",
      "                                                                                                  \n",
      " dot_1 (Dot)                    (None, 16, 1)        0           ['conv1d[0][0]',                 \n",
      "                                                                  'input_3[0][0]']                \n",
      "                                                                                                  \n",
      " concatenate (Concatenate)      (None, 16, 2)        0           ['dot[0][0]',                    \n",
      "                                                                  'dot_1[0][0]']                  \n",
      "                                                                                                  \n",
      " flatten (Flatten)              (None, 32)           0           ['concatenate[0][0]']            \n",
      "                                                                                                  \n",
      " dense (Dense)                  (None, 1)            33          ['flatten[0][0]']                \n",
      "                                                                                                  \n",
      " output_name (Reshape)          (None, 1)            0           ['dense[0][0]']                  \n",
      "                                                                                                  \n",
      "==================================================================================================\n",
      "Total params: 16,433\n",
      "Trainable params: 16,433\n",
      "Non-trainable params: 0\n",
      "__________________________________________________________________________________________________\n"
     ]
    }
   ],
   "source": [
    "model.summary()"
   ]
  },
  {
   "cell_type": "code",
   "execution_count": 3,
   "metadata": {},
   "outputs": [
    {
     "name": "stderr",
     "output_type": "stream",
     "text": [
      "2023-04-19 16:48:25.644941: I tensorflow/core/grappler/optimizers/custom_graph_optimizer_registry.cc:114] Plugin optimizer for device_type GPU is enabled.\n"
     ]
    },
    {
     "name": "stdout",
     "output_type": "stream",
     "text": [
      "5/5 [==============================] - 1s 103ms/step\n",
      "Test Accuracy: 0.5266666666666666\n",
      "6/6 [==============================] - 0s 76ms/step\n",
      "Test Accuracy: 0.6829268292682927\n",
      "5/5 [==============================] - 0s 78ms/step\n",
      "Test Accuracy: 0.5362318840579711\n",
      "6/6 [==============================] - 0s 53ms/step\n",
      "Test Accuracy: 0.5333333333333333\n",
      "6/6 [==============================] - 0s 47ms/step\n",
      "Test Accuracy: 0.6111111111111112\n",
      "6/6 [==============================] - 0s 65ms/step\n",
      "Test Accuracy: 0.5602409638554217\n",
      "6/6 [==============================] - 0s 22ms/step\n",
      "Test Accuracy: 0.5304878048780488\n",
      "6/6 [==============================] - 0s 55ms/step\n",
      "Test Accuracy: 0.5393258426966292\n",
      "6/6 [==============================] - 0s 67ms/step\n",
      "Test Accuracy: 0.5454545454545454\n",
      "5/5 [==============================] - 0s 56ms/step\n",
      "Test Accuracy: 0.65\n",
      "5/5 [==============================] - 0s 4ms/step\n",
      "Test Accuracy: 0.50625\n",
      "5/5 [==============================] - 0s 4ms/step\n",
      "Test Accuracy: 0.6875\n",
      "5/5 [==============================] - 0s 20ms/step\n",
      "Test Accuracy: 0.6824324324324325\n",
      "5/5 [==============================] - 0s 20ms/step\n",
      "Test Accuracy: 0.6388888888888888\n",
      "6/6 [==============================] - 0s 21ms/step\n",
      "Test Accuracy: 0.5842696629213483\n",
      "5/5 [==============================] - 0s 31ms/step\n",
      "Test Accuracy: 0.5357142857142857\n",
      "4/4 [==============================] - 0s 90ms/step\n",
      "Test Accuracy: 0.5725806451612904\n",
      "5/5 [==============================] - 0s 24ms/step\n",
      "Test Accuracy: 0.6357142857142857\n",
      "5/5 [==============================] - 0s 25ms/step\n",
      "Test Accuracy: 0.5641025641025641\n",
      "5/5 [==============================] - 0s 18ms/step\n",
      "Test Accuracy: 0.5909090909090909\n",
      "4/4 [==============================] - 0s 101ms/step\n",
      "Test Accuracy: 0.6229508196721312\n",
      "6/6 [==============================] - 0s 8ms/step\n",
      "Test Accuracy: 0.6728395061728395\n",
      "4/4 [==============================] - 0s 51ms/step\n",
      "Test Accuracy: 0.6509433962264151\n",
      "6/6 [==============================] - 0s 39ms/step\n",
      "Test Accuracy: 0.5802469135802469\n",
      "6/6 [==============================] - 0s 22ms/step\n",
      "Test Accuracy: 0.5365853658536586\n",
      "4/4 [==============================] - 0s 83ms/step\n",
      "Test Accuracy: 0.6984126984126984\n",
      "5/5 [==============================] - 0s 16ms/step\n",
      "Test Accuracy: 0.6066666666666667\n",
      "6/6 [==============================] - 0s 11ms/step\n",
      "Test Accuracy: 0.627906976744186\n",
      "5/5 [==============================] - 0s 8ms/step\n",
      "Test Accuracy: 0.6095890410958904\n",
      "5/5 [==============================] - 0s 4ms/step\n",
      "Test Accuracy: 0.575\n",
      "5/5 [==============================] - 0s 31ms/step\n",
      "Test Accuracy: 0.75\n"
     ]
    },
    {
     "ename": "AttributeError",
     "evalue": "'NoneType' object has no attribute 'reshape'",
     "output_type": "error",
     "traceback": [
      "\u001b[0;31m---------------------------------------------------------------------------\u001b[0m",
      "\u001b[0;31mAttributeError\u001b[0m                            Traceback (most recent call last)",
      "Cell \u001b[0;32mIn[3], line 5\u001b[0m\n\u001b[1;32m      3\u001b[0m \u001b[39m# Test the model\u001b[39;00m\n\u001b[1;32m      4\u001b[0m \u001b[39mfor\u001b[39;00m i \u001b[39min\u001b[39;00m \u001b[39mrange\u001b[39m(\u001b[39mlen\u001b[39m(all_files) \u001b[39m-\u001b[39m \u001b[39m2\u001b[39m):\n\u001b[0;32m----> 5\u001b[0m     (inputs), labels \u001b[39m=\u001b[39m test_generator\u001b[39m.\u001b[39;49m\u001b[39m__getitem__\u001b[39;49m(i)\n\u001b[1;32m      7\u001b[0m     predictions \u001b[39m=\u001b[39m model\u001b[39m.\u001b[39mpredict(inputs)\n\u001b[1;32m      8\u001b[0m     correct \u001b[39m=\u001b[39m \u001b[39m0\u001b[39m\n",
      "File \u001b[0;32m~/Dropbox/MSc EE/P&D ISSP/Brain_Computer_Interface_Directional_Acoustic_Zoom/Phase_2/datagenerator.py:62\u001b[0m, in \u001b[0;36mDataGenerator.__getitem__\u001b[0;34m(self, index)\u001b[0m\n\u001b[1;32m     59\u001b[0m         labels_batch \u001b[39m=\u001b[39m np\u001b[39m.\u001b[39mappend(labels_batch, np\u001b[39m.\u001b[39masarray(labels), axis\u001b[39m=\u001b[39m\u001b[39m0\u001b[39m)\n\u001b[1;32m     60\u001b[0m         \u001b[39m# print(\"Appending batch with shape: \", eeg_batch.shape, \" and labels: \", labels_batch.shape)\u001b[39;00m\n\u001b[0;32m---> 62\u001b[0m eeg_batch \u001b[39m=\u001b[39m eeg_batch\u001b[39m.\u001b[39;49mreshape(\u001b[39m-\u001b[39m\u001b[39m1\u001b[39m, \u001b[39mself\u001b[39m\u001b[39m.\u001b[39mtime_window, \u001b[39m64\u001b[39m)\n\u001b[1;32m     63\u001b[0m env1_batch \u001b[39m=\u001b[39m env1_batch\u001b[39m.\u001b[39mreshape(\u001b[39m-\u001b[39m\u001b[39m1\u001b[39m, \u001b[39mself\u001b[39m\u001b[39m.\u001b[39mtime_window, \u001b[39m1\u001b[39m)\n\u001b[1;32m     64\u001b[0m env2_batch \u001b[39m=\u001b[39m env2_batch\u001b[39m.\u001b[39mreshape(\u001b[39m-\u001b[39m\u001b[39m1\u001b[39m, \u001b[39mself\u001b[39m\u001b[39m.\u001b[39mtime_window, \u001b[39m1\u001b[39m)\n",
      "\u001b[0;31mAttributeError\u001b[0m: 'NoneType' object has no attribute 'reshape'"
     ]
    }
   ],
   "source": [
    "test_generator = DataGenerator(all_files, batch_size=10, stage='test')\n",
    "\n",
    "# Test the model\n",
    "for i in range(len(all_files) - 2):\n",
    "    (inputs), labels = test_generator.__getitem__(i)\n",
    "\n",
    "    predictions = model.predict(inputs)\n",
    "    correct = 0\n",
    "    for prediction, label in zip(predictions, labels):\n",
    "        if prediction > 0.5 and label == 1:\n",
    "            correct += 1\n",
    "        elif prediction < 0.5 and label == 0:\n",
    "            correct += 1\n",
    "            \n",
    "    print(\"Test Accuracy:\", correct / len(predictions))"
   ]
  },
  {
   "cell_type": "code",
   "execution_count": null,
   "metadata": {},
   "outputs": [],
   "source": []
  }
 ],
 "metadata": {
  "kernelspec": {
   "display_name": "Python 3",
   "language": "python",
   "name": "python3"
  },
  "language_info": {
   "codemirror_mode": {
    "name": "ipython",
    "version": 3
   },
   "file_extension": ".py",
   "mimetype": "text/x-python",
   "name": "python",
   "nbconvert_exporter": "python",
   "pygments_lexer": "ipython3",
   "version": "3.10.8"
  },
  "orig_nbformat": 4
 },
 "nbformat": 4,
 "nbformat_minor": 2
}
