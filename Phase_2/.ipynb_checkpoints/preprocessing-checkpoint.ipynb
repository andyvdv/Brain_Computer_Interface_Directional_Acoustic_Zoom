{
 "cells": [
  {
   "cell_type": "markdown",
   "metadata": {
    "pycharm": {
     "name": "#%% md\n"
    }
   },
   "source": [
    "You will have to start with preprocessing the wav files, to generate envelopes, as well as perform some basic steps on the EEG. We recommend using the libraries imported below,\n",
    "\n",
    "Librosa is a well known library for audio processing,.\n",
    "For generating the envelopes, we need a gammatone filter bank, for which we will need the brian2 and brian2hears libraries. There are alternative libraries which can generate the same results, if you are familiar with them, you can use them instead.\n"
   ]
  },
  {
   "cell_type": "code",
   "execution_count": 1,
   "metadata": {
    "pycharm": {
     "name": "#%%\n"
    }
   },
   "outputs": [],
   "source": [
    "\n",
    "from brian2 import Hz, kHz\n",
    "from brian2hears import Sound, erbspace, Gammatone, Filterbank\n",
    "from scipy import signal\n",
    "import librosa"
   ]
  },
  {
   "cell_type": "code",
   "execution_count": 4,
   "metadata": {
    "pycharm": {
     "name": "#%%\n"
    }
   },
   "outputs": [
    {
     "ename": "NameError",
     "evalue": "name 'gammatone_filterbank' is not defined",
     "output_type": "error",
     "traceback": [
      "\u001b[0;31m---------------------------------------------------------------------------\u001b[0m",
      "\u001b[0;31mNameError\u001b[0m                                 Traceback (most recent call last)",
      "Cell \u001b[0;32mIn[4], line 11\u001b[0m\n\u001b[1;32m      1\u001b[0m \u001b[39m# calculation of the envelope. It is normal if this process takes some time.\u001b[39;00m\n\u001b[1;32m      2\u001b[0m \n\u001b[1;32m      3\u001b[0m \u001b[39m# 1 . LOAD THE AUDIO FILE\u001b[39;00m\n\u001b[0;32m   (...)\u001b[0m\n\u001b[1;32m      8\u001b[0m \n\u001b[1;32m      9\u001b[0m \u001b[39m# 5. The brian2hears library uses a .process() function call to generate the output of the function call. When using this function directly, without a wrapper, it uses up a lot of RAM memory ( you need somewhere between 32 and 64GB of RAM). To alleviate this issue, you have to wrap the filterbank in a wrapper class, which keeps the RAM usage low. Use the following class to wrap the filterbank. The other preprocessing steps are done inside the gammatone filterbank class wrapper\u001b[39;00m\n\u001b[0;32m---> 11\u001b[0m envelope_calcuation \u001b[39m=\u001b[39m EnvelopeFromGammatoneFilterbank(gammatone_filterbank)\n\u001b[1;32m     12\u001b[0m envelope \u001b[39m=\u001b[39m envelope_calcuation\u001b[39m.\u001b[39mprocess()\n\u001b[1;32m     14\u001b[0m \u001b[39m# 9 . Downsample the envelope to the desired sampling rate. Make sure that you use a downsampling method that sets a low-pass filter on the signal, to avoid aliasing.\u001b[39;00m\n\u001b[1;32m     15\u001b[0m \n\u001b[1;32m     16\u001b[0m \u001b[39m# for high-pass filteting, we will use a butterworth filter. (Look into scipy.signal.butter, and scipy.signal.sosfiltfilt for more information)\u001b[39;00m\n\u001b[1;32m     17\u001b[0m \n\u001b[1;32m     18\u001b[0m \n\u001b[1;32m     19\u001b[0m \u001b[39m#10. save the envelope to a file\u001b[39;00m\n",
      "\u001b[0;31mNameError\u001b[0m: name 'gammatone_filterbank' is not defined"
     ]
    }
   ],
   "source": [
    "# calculation of the envelope. It is normal if this process takes some time.\n",
    "\n",
    "# 1 . LOAD THE AUDIO FILE\n",
    "\n",
    "# 2. for the brian library, we need to convert the audio file to a brian sound object ('Sound')\n",
    "# 3. for our gammatone filterbank, we will use 28 centerfrequencies, ranged between 50 Hz and 5kHz  ('erbspace')\n",
    "# 4. create the gammatone filterbank (Gammatone)\n",
    "\n",
    "# 5. The brian2hears library uses a .process() function call to generate the output of the function call. When using this function directly, without a wrapper, it uses up a lot of RAM memory ( you need somewhere between 32 and 64GB of RAM). To alleviate this issue, you have to wrap the filterbank in a wrapper class, which keeps the RAM usage low. Use the following class to wrap the filterbank. The other preprocessing steps are done inside the gammatone filterbank class wrapper\n",
    "\n",
    "envelope_calcuation = EnvelopeFromGammatoneFilterbank(gammatone_filterbank)\n",
    "envelope = envelope_calcuation.process()\n",
    "\n",
    "# 9 . Downsample the envelope to the desired sampling rate. Make sure that you use a downsampling method that sets a low-pass filter on the signal, to avoid aliasing.\n",
    "\n",
    "# for high-pass filteting, we will use a butterworth filter. (Look into scipy.signal.butter, and scipy.signal.sosfiltfilt for more information)\n",
    "\n",
    "\n",
    "#10. save the envelope to a file\n",
    "\n",
    "class EnvelopeFromGammatoneFilterbank(Filterbank):\n",
    "    \"\"\"Converts the output of a GammatoneFilterbank to an envelope.\"\"\"\n",
    "\n",
    "    def __init__(self, source):\n",
    "        \"\"\"Initialize the envelope transformation.\n",
    "\n",
    "        Parameters\n",
    "        ----------\n",
    "        source : Gammatone\n",
    "            Gammatone filterbank output to convert to envelope\n",
    "        \"\"\"\n",
    "        super().__init__(source)\n",
    "\n",
    "        self.nchannels = 1\n",
    "\n",
    "    def buffer_apply(self, input_):\n",
    "        # 6. take absolute value of the input_\n",
    "        input = abs(input)\n",
    "        # 7. do power-law compression\n",
    "        \n",
    "        # 8. take the mean over the channels, to get a single envelope\n",
    "        # return the envelope\n",
    "        envelope = all_these_preprocessing_steps(input_)\n",
    "        return  envelope"
   ]
  },
  {
   "cell_type": "code",
   "execution_count": 3,
   "metadata": {
    "pycharm": {
     "name": "#%%\n"
    }
   },
   "outputs": [],
   "source": [
    "\n"
   ]
  },
  {
   "cell_type": "code",
   "execution_count": null,
   "metadata": {
    "pycharm": {
     "name": "#%%\n"
    }
   },
   "outputs": [],
   "source": []
  }
 ],
 "metadata": {
  "kernelspec": {
   "display_name": "Python 3 (ipykernel)",
   "language": "python",
   "name": "python3"
  },
  "language_info": {
   "codemirror_mode": {
    "name": "ipython",
    "version": 3
   },
   "file_extension": ".py",
   "mimetype": "text/x-python",
   "name": "python",
   "nbconvert_exporter": "python",
   "pygments_lexer": "ipython3",
   "version": "3.10.8"
  }
 },
 "nbformat": 4,
 "nbformat_minor": 1
}
