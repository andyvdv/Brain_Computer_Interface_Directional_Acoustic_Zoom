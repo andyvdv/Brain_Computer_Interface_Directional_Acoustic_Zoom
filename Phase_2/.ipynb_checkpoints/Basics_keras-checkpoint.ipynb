{
 "cells": [
  {
   "cell_type": "markdown",
   "metadata": {
    "colab_type": "text",
    "id": "sdX4feSRlK5m"
   },
   "source": [
    "# Basics of Keras\n",
    "[Keras homepage](https://keras.io/): Keras is a high-level neural networks API, written in Python and capable of running on top of TensorFlow, CNTK, or Theano. It was developed with a focus on enabling fast experimentation. Being able to go from idea to result with the least possible delay is key to doing good research.\n",
    "\n",
    "\n",
    "You may also consider installing the following optional dependencies:\n",
    "\n",
    "    cuDNN (recommended if you plan on running Keras on GPU).\n",
    "    HDF5 and h5py (required if you plan on saving Keras models to disk).\n",
    "    graphviz and pydot (used by visualization utilities to plot model graphs).\n",
    "\n",
    "\n",
    "\n",
    "**Installation**\n",
    "- for python2.x: pip install keras\n",
    "- for python3.x: pip3 install keras"
   ]
  },
  {
   "cell_type": "code",
   "execution_count": 1,
   "metadata": {
    "colab": {},
    "colab_type": "code",
    "id": "KXCkxN66lK5r"
   },
   "outputs": [],
   "source": [
    "#!pip install keras"
   ]
  },
  {
   "cell_type": "code",
   "execution_count": 2,
   "metadata": {
    "colab": {},
    "colab_type": "code",
    "id": "K5Y6or8WlK5z",
    "outputId": "6b680593-efe9-41d5-cbab-95cb45ac9c61"
   },
   "outputs": [],
   "source": [
    "import keras #importing keras library"
   ]
  },
  {
   "cell_type": "markdown",
   "metadata": {
    "colab_type": "text",
    "id": "kRVqzWYOlK56"
   },
   "source": [
    "### Building a network"
   ]
  },
  {
   "cell_type": "code",
   "execution_count": 3,
   "metadata": {
    "colab": {},
    "colab_type": "code",
    "id": "k0gvHouNlK58"
   },
   "outputs": [],
   "source": [
    "import numpy as np\n",
    "from numpy.random import seed\n",
    "seed(1) # for reproducibility\n",
    "from keras.models import Sequential\n",
    "from keras.layers import Dense, Activation # import linear layer (Dense) and activation"
   ]
  },
  {
   "cell_type": "markdown",
   "metadata": {
    "colab_type": "text",
    "id": "lDzYyA1elK6B"
   },
   "source": [
    "#### There are two ways of building a network in keras:\n",
    "- Sequential: It allows you to build your network by adding layers one-after-other in a sequence. One drawback of this method is that you can't build networks that share layers.\n",
    "- Functional API: Here you build a network like a graph. Hence more complex networks can be built."
   ]
  },
  {
   "cell_type": "markdown",
   "metadata": {
    "colab_type": "text",
    "id": "8iGt64LrlK6D"
   },
   "source": [
    "### Sequential\n",
    "Read more: https://keras.io/models/sequential/"
   ]
  },
  {
   "cell_type": "code",
   "execution_count": 6,
   "metadata": {
    "colab": {},
    "colab_type": "code",
    "id": "xD4QxYJJlK6F"
   },
   "outputs": [],
   "source": [
    "#Simple 1 layer network \n",
    "model = Sequential()\n",
    "model.add(Dense(10, input_shape=(32,)))\n",
    "model.add(Activation('softmax'))"
   ]
  },
  {
   "cell_type": "code",
   "execution_count": 7,
   "metadata": {
    "colab": {},
    "colab_type": "code",
    "id": "k4Uir5lnlK6L"
   },
   "outputs": [
    {
     "name": "stdout",
     "output_type": "stream",
     "text": [
      "Model: \"sequential_1\"\n",
      "_________________________________________________________________\n",
      " Layer (type)                Output Shape              Param #   \n",
      "=================================================================\n",
      " dense_1 (Dense)             (None, 10)                330       \n",
      "                                                                 \n",
      " activation_1 (Activation)   (None, 10)                0         \n",
      "                                                                 \n",
      "=================================================================\n",
      "Total params: 330\n",
      "Trainable params: 330\n",
      "Non-trainable params: 0\n",
      "_________________________________________________________________\n"
     ]
    }
   ],
   "source": [
    "model.summary() # prints the summary of the network\n",
    "# Notice in Output Shape \"None\" is batch dims, 10 is feature dims"
   ]
  },
  {
   "cell_type": "markdown",
   "metadata": {
    "colab_type": "text",
    "id": "XRBwV7uelK6R"
   },
   "source": [
    "### Functional API\n",
    "Read more: https://keras.io/getting-started/functional-api-guide/\n",
    "\n",
    "Building the same network using functional API."
   ]
  },
  {
   "cell_type": "code",
   "execution_count": 8,
   "metadata": {
    "colab": {},
    "colab_type": "code",
    "id": "SvNLPYSXlK6T"
   },
   "outputs": [
    {
     "ename": "TypeError",
     "evalue": "('Keyword argument not understood:', 'input')",
     "output_type": "error",
     "traceback": [
      "\u001b[0;31m---------------------------------------------------------------------------\u001b[0m",
      "\u001b[0;31mTypeError\u001b[0m                                 Traceback (most recent call last)",
      "Cell \u001b[0;32mIn[8], line 7\u001b[0m\n\u001b[1;32m      4\u001b[0m l1 \u001b[38;5;241m=\u001b[39m Dense(\u001b[38;5;241m10\u001b[39m)(inp) \u001b[38;5;66;03m# See how the dense layer is pointing to inp\u001b[39;00m\n\u001b[1;32m      5\u001b[0m act1 \u001b[38;5;241m=\u001b[39m Activation(\u001b[38;5;124m'\u001b[39m\u001b[38;5;124msoftmax\u001b[39m\u001b[38;5;124m'\u001b[39m)(l1)\n\u001b[0;32m----> 7\u001b[0m model \u001b[38;5;241m=\u001b[39m \u001b[43mModel\u001b[49m\u001b[43m(\u001b[49m\u001b[38;5;28;43minput\u001b[39;49m\u001b[38;5;241;43m=\u001b[39;49m\u001b[43minp\u001b[49m\u001b[43m,\u001b[49m\u001b[43moutput\u001b[49m\u001b[38;5;241;43m=\u001b[39;49m\u001b[43mact1\u001b[49m\u001b[43m)\u001b[49m\n\u001b[1;32m      9\u001b[0m model\u001b[38;5;241m.\u001b[39msummary()\n",
      "File \u001b[0;32m~/.pyenv/versions/3.10.8/lib/python3.10/site-packages/tensorflow/python/trackable/base.py:205\u001b[0m, in \u001b[0;36mno_automatic_dependency_tracking.<locals>._method_wrapper\u001b[0;34m(self, *args, **kwargs)\u001b[0m\n\u001b[1;32m    203\u001b[0m \u001b[38;5;28mself\u001b[39m\u001b[38;5;241m.\u001b[39m_self_setattr_tracking \u001b[38;5;241m=\u001b[39m \u001b[38;5;28;01mFalse\u001b[39;00m  \u001b[38;5;66;03m# pylint: disable=protected-access\u001b[39;00m\n\u001b[1;32m    204\u001b[0m \u001b[38;5;28;01mtry\u001b[39;00m:\n\u001b[0;32m--> 205\u001b[0m   result \u001b[38;5;241m=\u001b[39m \u001b[43mmethod\u001b[49m\u001b[43m(\u001b[49m\u001b[38;5;28;43mself\u001b[39;49m\u001b[43m,\u001b[49m\u001b[43m \u001b[49m\u001b[38;5;241;43m*\u001b[39;49m\u001b[43margs\u001b[49m\u001b[43m,\u001b[49m\u001b[43m \u001b[49m\u001b[38;5;241;43m*\u001b[39;49m\u001b[38;5;241;43m*\u001b[39;49m\u001b[43mkwargs\u001b[49m\u001b[43m)\u001b[49m\n\u001b[1;32m    206\u001b[0m \u001b[38;5;28;01mfinally\u001b[39;00m:\n\u001b[1;32m    207\u001b[0m   \u001b[38;5;28mself\u001b[39m\u001b[38;5;241m.\u001b[39m_self_setattr_tracking \u001b[38;5;241m=\u001b[39m previous_value  \u001b[38;5;66;03m# pylint: disable=protected-access\u001b[39;00m\n",
      "File \u001b[0;32m~/.pyenv/versions/3.10.8/lib/python3.10/site-packages/keras/utils/traceback_utils.py:70\u001b[0m, in \u001b[0;36mfilter_traceback.<locals>.error_handler\u001b[0;34m(*args, **kwargs)\u001b[0m\n\u001b[1;32m     67\u001b[0m     filtered_tb \u001b[38;5;241m=\u001b[39m _process_traceback_frames(e\u001b[38;5;241m.\u001b[39m__traceback__)\n\u001b[1;32m     68\u001b[0m     \u001b[38;5;66;03m# To get the full stack trace, call:\u001b[39;00m\n\u001b[1;32m     69\u001b[0m     \u001b[38;5;66;03m# `tf.debugging.disable_traceback_filtering()`\u001b[39;00m\n\u001b[0;32m---> 70\u001b[0m     \u001b[38;5;28;01mraise\u001b[39;00m e\u001b[38;5;241m.\u001b[39mwith_traceback(filtered_tb) \u001b[38;5;28;01mfrom\u001b[39;00m \u001b[38;5;28mNone\u001b[39m\n\u001b[1;32m     71\u001b[0m \u001b[38;5;28;01mfinally\u001b[39;00m:\n\u001b[1;32m     72\u001b[0m     \u001b[38;5;28;01mdel\u001b[39;00m filtered_tb\n",
      "File \u001b[0;32m~/.pyenv/versions/3.10.8/lib/python3.10/site-packages/keras/utils/generic_utils.py:515\u001b[0m, in \u001b[0;36mvalidate_kwargs\u001b[0;34m(kwargs, allowed_kwargs, error_message)\u001b[0m\n\u001b[1;32m    513\u001b[0m \u001b[38;5;28;01mfor\u001b[39;00m kwarg \u001b[38;5;129;01min\u001b[39;00m kwargs:\n\u001b[1;32m    514\u001b[0m     \u001b[38;5;28;01mif\u001b[39;00m kwarg \u001b[38;5;129;01mnot\u001b[39;00m \u001b[38;5;129;01min\u001b[39;00m allowed_kwargs:\n\u001b[0;32m--> 515\u001b[0m         \u001b[38;5;28;01mraise\u001b[39;00m \u001b[38;5;167;01mTypeError\u001b[39;00m(error_message, kwarg)\n",
      "\u001b[0;31mTypeError\u001b[0m: ('Keyword argument not understood:', 'input')"
     ]
    }
   ],
   "source": [
    "from keras.layers import Input\n",
    "from keras.models import Model\n",
    "inp = Input(shape=(32,))\n",
    "l1 = Dense(10)(inp) # See how the dense layer is pointing to inp\n",
    "act1 = Activation('softmax')(l1)\n",
    "\n",
    "model = Model(inputs=inp,outputs=act1)\n",
    "\n",
    "model.summary()"
   ]
  },
  {
   "cell_type": "code",
   "execution_count": null,
   "metadata": {
    "colab": {},
    "colab_type": "code",
    "id": "vay2JpAGlK6Y"
   },
   "outputs": [],
   "source": [
    "# Building a 2 layer NN for binary classification:\n",
    "\n",
    "#Simple 1 layer network \n",
    "model = Sequential()\n",
    "model.add(Dense(16, input_shape=(32,)))\n",
    "model.add(Activation('relu'))\n",
    "model.add(Dense(2))\n",
    "model.add(Activation('softmax'))\n",
    "model.summary()"
   ]
  },
  {
   "cell_type": "markdown",
   "metadata": {
    "colab_type": "text",
    "id": "8Ob97Mk1lK6e"
   },
   "source": [
    "#### Training\n",
    "\n",
    "- For supervised learning, we need (x,y) pairs to train our model. Where x is the input data and y is the corresponding ground truth.\n",
    "\n",
    "Lets sample x and y from a random distribution."
   ]
  },
  {
   "cell_type": "code",
   "execution_count": null,
   "metadata": {
    "colab": {},
    "colab_type": "code",
    "id": "_oMIDh9PlK6f"
   },
   "outputs": [],
   "source": [
    "# Create a set of random input vectors.\n",
    "# Both the input feature dimension and the input shape of the network should be consistent. Else you will get an error.\n",
    "x_train = np.random.rand(1000,32)\n",
    "y_train = np.random.binomial(1, 0.5, 1000) #Sampling from binomial distribution\n",
    "\n",
    "\n",
    "# Lets check our input and outputs\n",
    "\n",
    "print(\"x_train[:5]\",x_train[:5])\n",
    "print(\"y_train[:5]\",y_train[:5])"
   ]
  },
  {
   "cell_type": "markdown",
   "metadata": {
    "colab_type": "text",
    "id": "KQ0WJgIElK6n"
   },
   "source": [
    "Similarly we will create our validation and test set"
   ]
  },
  {
   "cell_type": "code",
   "execution_count": null,
   "metadata": {
    "colab": {},
    "colab_type": "code",
    "id": "59iPKMtxlK6p"
   },
   "outputs": [],
   "source": [
    "# Validation Set\n",
    "x_val = np.random.rand(250,32)\n",
    "y_val = np.random.binomial(1, 0.5, 250)\n",
    "\n",
    "# Test Set\n",
    "x_test = np.random.rand(250,32)\n",
    "y_test = np.random.binomial(1, 0.5, 250)"
   ]
  },
  {
   "cell_type": "markdown",
   "metadata": {
    "colab_type": "text",
    "id": "LASTojjKlK6t"
   },
   "source": [
    "Now we will set other hyperparameter and compile the model."
   ]
  },
  {
   "cell_type": "code",
   "execution_count": null,
   "metadata": {
    "colab": {},
    "colab_type": "code",
    "id": "HOy7j_HflK6v"
   },
   "outputs": [],
   "source": [
    "nb_batch = 32 # batch_size\n",
    "nb_epoch = 100 # no. of epochs\n",
    "# Compile model\n",
    "model.compile(optimizer='adam',\n",
    "              loss='categorical_crossentropy',\n",
    "              metrics=['accuracy'])\n",
    "# Check keras documentation for other optimizers\n",
    "# Since the task here is classification, categorical_crossentropy loss will be used.\n"
   ]
  },
  {
   "cell_type": "markdown",
   "metadata": {},
   "source": [
    "We can add some callbacks to the model. This will allow us to eg. save the training/validation accuracy and loss at each epoch ( allows you to detect overfitting!), save the model, implement early stopping, ..."
   ]
  },
  {
   "cell_type": "code",
   "execution_count": null,
   "metadata": {},
   "outputs": [],
   "source": [
    "checkpoint = keras.callbacks.ModelCheckpoint('model.h5', monitor='val_acc', verbose=1, save_best_only=True, mode='max')\n",
    "csvLogger = keras.callbacks.CSVLogger(\"training_log.csv\")\n",
    "earlyStopping = keras.callbacks.EarlyStopping(patience=20, restore_best_weights=True)\n",
    "\n",
    "callbacks_list = [checkpoint, csvLogger,earlyStopping]\n"
   ]
  },
  {
   "cell_type": "code",
   "execution_count": null,
   "metadata": {
    "colab": {},
    "colab_type": "code",
    "id": "vLSxzEcqlK6-"
   },
   "outputs": [],
   "source": [
    "model.fit(x=x_train, y=y_train, batch_size=nb_batch, epochs=nb_epoch,callbacks=callbacks_list verbose=1, validation_data=(x_val,y_val), shuffle=True)\n",
    "# Keep shuffle True while training. Why?"
   ]
  },
  {
   "cell_type": "markdown",
   "metadata": {
    "colab_type": "text",
    "id": "xQ5vN0TLlK7E"
   },
   "source": [
    "#### Questions:\n",
    "- Why the training loss is decreasing? why validation loss is increasing?\n",
    "- Why the training accuracy is increasing? why the validation accuracy is almost constant?\n"
   ]
  },
  {
   "cell_type": "code",
   "execution_count": null,
   "metadata": {
    "colab": {},
    "colab_type": "code",
    "id": "-I1uJBVQlK7G"
   },
   "outputs": [],
   "source": [
    "# Testing\n",
    "\n",
    "test_loss, test_accuracy = model.evaluate(x=x_test,y=y_test,batch_size=8)\n",
    "print(\"\\n\")\n",
    "print(\"test_loss:\",test_loss,\"    test_accuracy:\", test_accuracy)"
   ]
  },
  {
   "cell_type": "markdown",
   "metadata": {
    "colab_type": "text",
    "id": "p1Y-ezuPlK7L"
   },
   "source": [
    "## Convolutional Neural Network\n"
   ]
  },
  {
   "cell_type": "markdown",
   "metadata": {
    "colab_type": "text",
    "id": "A98vt_hBlK7M"
   },
   "source": [
    "A convolutional neural network (or CNN) is a type of neural network comprises of typically following building blocks:\n",
    "- Convolutional Layer: These are a set of kernels/filters that convolve with a signal (1D: audio,EEG, etc; 2D: Images; 3D: Videos) to find particular patterns in it based on the kernel type. The kernels or filters are learnable through gradient descent.\n",
    "- Non-linearity: Relu, Sigmoid, tanh, etc.\n",
    "- Pooling layer: Downsamples the input signal, which also reduced the necessity to have a larger convolutional layer at the output. It also introduces small translation invariance to the input signal.\n",
    "- Fully connected layer/Linear layer: They are mainly used to model the actual decision process. Example: classifier.\n",
    "\n",
    "Hence, in contrast to classical methods where features are handcrafted and then we train a classifier on those features. CNN does both learning features and classification.\n",
    "\n",
    "![Basic CNN block](cnn_architecture.svg)\n",
    "Image source: https://developers.google.com/machine-learning/practica/image-classification/convolutional-neural-networks"
   ]
  },
  {
   "cell_type": "code",
   "execution_count": null,
   "metadata": {
    "colab": {},
    "colab_type": "code",
    "id": "hjCtSgY9lK7O"
   },
   "outputs": [],
   "source": []
  }
 ],
 "metadata": {
  "colab": {
   "collapsed_sections": [],
   "name": "Basics_keras.ipynb",
   "provenance": []
  },
  "kernelspec": {
   "display_name": "Python 3 (ipykernel)",
   "language": "python",
   "name": "python3"
  },
  "language_info": {
   "codemirror_mode": {
    "name": "ipython",
    "version": 3
   },
   "file_extension": ".py",
   "mimetype": "text/x-python",
   "name": "python",
   "nbconvert_exporter": "python",
   "pygments_lexer": "ipython3",
   "version": "3.10.8"
  }
 },
 "nbformat": 4,
 "nbformat_minor": 4
}
