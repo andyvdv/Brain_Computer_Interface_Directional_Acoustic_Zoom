{
 "cells": [
  {
   "cell_type": "markdown",
   "metadata": {},
   "source": [
    "# Import necessary classes and functions"
   ]
  },
  {
   "cell_type": "code",
   "execution_count": 3,
   "metadata": {},
   "outputs": [],
   "source": [
    "from package.gui_utils import load_rirs, plot_rirs"
   ]
  },
  {
   "cell_type": "markdown",
   "metadata": {},
   "source": [
    "# Load the RIR and plot the scenario"
   ]
  },
  {
   "cell_type": "code",
   "execution_count": 4,
   "metadata": {},
   "outputs": [
    {
     "data": {
      "image/png": "[encoded data removed]",
      "text/plain": [
       "<Figure size 850x350 with 1 Axes>"
      ]
     },
     "metadata": {},
     "output_type": "display_data"
    }
   ],
   "source": [
    "acousticScenario = load_rirs(path='/Users/rudi/Dropbox/MSc EE/P&D ISSP/Brain_Computer_Interface_Directional_Acoustic_Zoom/rirs/rirs_20230215_17h09m20s.pkl.gz')\n",
    "acousticScenario.plot_asc()"
   ]
  },
  {
   "cell_type": "code",
   "execution_count": 9,
   "metadata": {},
   "outputs": [
    {
     "name": "stdout",
     "output_type": "stream",
     "text": [
      "Acoustic scenario object containing the RIRs, with parameters:\n",
      ">> Field \"audioCoords\": [[0.8999999999999999, 3.825], [0.775, 1.6]]\n",
      ">> Field \"audioIds\": ['59', '60']\n",
      ">> Field \"c\": 340\n",
      ">> Field \"distBwMics\": 5\n",
      ">> Field \"exportFolder\": /Users/rudi/Dropbox/MSc EE/P&D ISSP/Brain_Computer_Interface_Directional_Acoustic_Zoom/rirs\n",
      ">> Field \"fs\": 44100\n",
      ">> Field \"lineIds\": [1, 3, 4, 6, 8, 10, 12, 14, 16, 18, 20, 22, 23, 25, 27, 29, 31, 33, 35, 37, 39, 41, 43, 45, 47, 49, 51, 53, 55, 57]\n",
      ">> Field \"lineTextIds\": [2, 5, 7, 9, 11, 13, 15, 17, 19, 21, 24, 26, 28, 30, 32, 34, 36, 38, 40, 42, 44, 46, 48, 50, 52, 54, 56, 58]\n",
      ">> Field \"micsCoords\": [[3.8, 2.7750000000000004], [3.8, 2.8000000000000003], [3.8, 2.8249999999999997]]\n",
      ">> Field \"micsIds\": ['62', '63', '64']\n",
      ">> Field \"nMicsPerArray\": 5\n",
      ">> Field \"noiseCoords\": [[0.75, 2.875]]\n",
      ">> Field \"noiseIds\": ['61']\n",
      ">> Field \"rd\": [10.0, 10.0]\n",
      ">> Field \"rirLength\": 22050\n",
      ">> Field \"roomDim\": 5\n",
      ">> Field \"t60\": 1.5\n",
      ">> Field \"theme\": DarkAmber\n",
      "\n"
     ]
    },
    {
     "ename": "TypeError",
     "evalue": "'tuple' object is not callable",
     "output_type": "error",
     "traceback": [
      "\u001b[0;31m---------------------------------------------------------------------------\u001b[0m",
      "\u001b[0;31mTypeError\u001b[0m                                 Traceback (most recent call last)",
      "Cell \u001b[0;32mIn[9], line 2\u001b[0m\n\u001b[1;32m      1\u001b[0m \u001b[38;5;28mprint\u001b[39m(acousticScenario)\n\u001b[0;32m----> 2\u001b[0m \u001b[38;5;28mprint\u001b[39m(\u001b[43macousticScenario\u001b[49m\u001b[38;5;241;43m.\u001b[39;49m\u001b[43mRIRsAudio\u001b[49m\u001b[38;5;241;43m.\u001b[39;49m\u001b[43mshape\u001b[49m\u001b[43m(\u001b[49m\u001b[43m)\u001b[49m)\n\u001b[1;32m      3\u001b[0m plot_rirs(acousticScenario\u001b[38;5;241m.\u001b[39mRIRsAudio, acousticScenario\u001b[38;5;241m.\u001b[39mRIRsNoise) \n",
      "\u001b[0;31mTypeError\u001b[0m: 'tuple' object is not callable"
     ]
    }
   ],
   "source": [
    "print(acousticScenario)\n",
    "print(acousticScenario.RIRsAudio.shape)\n",
    "plot_rirs(acousticScenario.RIRsAudio, acousticScenario.RIRsNoise) "
   ]
  }
 ],
 "metadata": {
  "interpreter": {
   "hash": "a665b5d41d17b532ea9890333293a1b812fa0b73c9c25c950b3cedf1bebd0438"
  },
  "kernelspec": {
   "display_name": "Python 3.9.16 64-bit",
   "language": "python",
   "name": "python3"
  },
  "language_info": {
   "codemirror_mode": {
    "name": "ipython",
    "version": 3
   },
   "file_extension": ".py",
   "mimetype": "text/x-python",
   "name": "python",
   "nbconvert_exporter": "python",
   "pygments_lexer": "ipython3",
   "version": "3.9.16"
  },
  "orig_nbformat": 4
 },
 "nbformat": 4,
 "nbformat_minor": 2
}
